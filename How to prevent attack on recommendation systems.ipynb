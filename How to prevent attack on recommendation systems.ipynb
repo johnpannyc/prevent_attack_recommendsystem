{
 "cells": [
  {
   "cell_type": "markdown",
   "metadata": {},
   "source": [
    "How to Prevent Attack on Recommendation System\n",
    "\n",
    "Collaborative filtering (CF) techniques have been successfully employed in recommender systems in order to help users deal\n",
    "with information overload by making high quality personalized recommendations. They are not only helping users find relevant items, but are also beneficial to companies producing items by increasing both selling rate and cross-sales.The most popular types of algorithms for collaborative filtering (CF) are user-based and item-based:\n",
    "1. User-based algorithms build for each user a neighborhood of users with similar opinions (i.e., ratings) in the system. Ratings from these users are then employed to generate recommendations for the target user.\n",
    "2. Item-based algorithms compute a set of similar items for each item and use these similarities to compute recommendations.\n",
    "Unfortunately, since good ratings promise a good selling rate, these systems are prone to manipulation from producers or malicious users. \n",
    "\n",
    "Attacks on recommender systems can affect the quality of the prediction for many users, resulting in decreasing overall user satisfaction with the system. Such threats may cost users’ time and money and pose a serious challenge to the\n",
    "recommender system administrators, who have to manually discover the shilling attackers.\n",
    "\n",
    "Common CF Algorithms\n",
    "1. User-based collaborative filtering. The most popular collaborative filtering algorithm is the kNN-based algorithm. Similarity between users is then computed using the Pearson correlation.\n",
    "2. Another popular CF algorithm is based on the item-item similarity.\n",
    "\n",
    "Based on common CF Algorithms, a few approaches have been developed to attack recommendation system.  \n",
    "1. A Random Bot attacker rates all the items in the system with the mean 3.6 out of 5 and a 1.1 deviation. The intuition behind this is that making random ratings within a certain average interval will allow the attacker to have a high influence in making predictions for other users. \n",
    "2. An Average Bot attacker is more effective but requires knowledge of the average rating for each item in the system. Each Average Bot attacker rates the items outside the target set randomly, following a normal distribution with a mean equal to the average rating for that item, thus becoming more similar to the real users than the Random Bot.\n",
    "\n",
    "In order to prevent attack of Recommendation Systems.  Afew methods have been developed.\n",
    "1. Metrics for detecting rating patterns of shilling attackers. \n",
    "(1) Number of Prediction-Differences (NPD) NPD is defined for each user as the number of net prediction changes in the system after her removal from the system.\n",
    "(2) Standard Deviation in User’s Ratings  This metric represents the degree in which a rating given by a user to an item differs from her average ratings.\n",
    "(3) Degree of Agreement with Other Users The degree of agreement is in fact the average deviation in a user’s ratings from the average rating of each item.\n",
    "(4) Degree of Similarity with Top Neighbors As stated by its name, this metric describes the average similarity weight with the Top-K neighbors of a user. \n",
    "\n",
    "2. Basic Algorithm for Detecting Shilling Attackers\n",
    "Considering the fact that attackers should have a high influence in the system in order to effectively promote the target items. Therefor, attackers should have very high values for NPD, Average Similarity,Degree of agreement with other users, and RDMA, as well as a very low value for Standard Deviation in User Ratings. Algorithm computes for each user the values for all statistical metrics based on her assessed probability of being an attacker will be developed.\n",
    "\n",
    "3. Prevent attack by knowing their attach scenario.\n",
    "\n",
    "4. Using rating pattern to detect attack.\n",
    "\n",
    "5. Enhance algorithm to detect attack.\n",
    "\n",
    "\n",
    "   \n",
    "    "
   ]
  }
 ],
 "metadata": {
  "kernelspec": {
   "display_name": "Python 3",
   "language": "python",
   "name": "python3"
  },
  "language_info": {
   "codemirror_mode": {
    "name": "ipython",
    "version": 3
   },
   "file_extension": ".py",
   "mimetype": "text/x-python",
   "name": "python",
   "nbconvert_exporter": "python",
   "pygments_lexer": "ipython3",
   "version": "3.6.5"
  }
 },
 "nbformat": 4,
 "nbformat_minor": 2
}
